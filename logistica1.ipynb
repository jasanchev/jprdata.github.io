{
 "cells": [
  {
   "cell_type": "markdown",
   "metadata": {},
   "source": [
    "# <center>Problema de Planeación Logística</center>\n",
    "\n",
    "Estamos asesorando a un fabricante de hornos de cocina para que planifique su logística para el mes próximo. Hay dos ubicaciones de almacén (Nueva York y Atlanta) y cuatro ubicaciones de clientes regionales (Este, Sur, Medio Oeste, Oeste). La demanda prevista para el mes próximo para el Este es de 1,800, para el Sur es de 1,200, para el Medio Oeste es de 1,100 y para el Oeste es de 1,000. El costo de envío de cada una de las ubicaciones de almacén a los clientes regionales se detalla en la siguiente tabla. Tu objetivo es satisfacer la demanda regional al precio más bajo.\n",
    "\n",
    "![Tabla](Tabla.png)"
   ]
  },
  {
   "cell_type": "code",
   "execution_count": 19,
   "metadata": {},
   "outputs": [
    {
     "name": "stdout",
     "output_type": "stream",
     "text": [
      "Estado: Optimal\n",
      "Costo total mínimo del transporte: 1167200.0\n",
      "atle - 0.0\n",
      "atlm - 1100.0\n",
      "atls - 1200.0\n",
      "atlw - 1000.0\n",
      "ne - 1800.0\n",
      "nm - 0.0\n",
      "ns - 0.0\n",
      "nw - 0.0\n"
     ]
    },
    {
     "name": "stderr",
     "output_type": "stream",
     "text": [
      "c:\\Users\\jaime.sanchez\\AppData\\Local\\anaconda3\\envs\\proyectocolt\\Lib\\site-packages\\pulp\\pulp.py:1316: UserWarning: Spaces are not permitted in the name. Converted to '_'\n",
      "  warnings.warn(\"Spaces are not permitted in the name. Converted to '_'\")\n"
     ]
    }
   ],
   "source": [
    "from pulp import *\n",
    "# Inicializar el modelo\n",
    "modelo_log1 = LpProblem(\"Minimizar Costos de Transporte\", LpMinimize)\n",
    "\n",
    "# Definir variables de decisión\n",
    "ne = LpVariable('ne',lowBound=0)\n",
    "ns = LpVariable('ns',lowBound=0)\n",
    "nm = LpVariable('nm',lowBound=0)\n",
    "nw = LpVariable('nw',lowBound=0)\n",
    "atle = LpVariable('atle',lowBound=0)\n",
    "atls = LpVariable('atls',lowBound=0)\n",
    "atlm = LpVariable('atlm',lowBound=0)\n",
    "atlw = LpVariable('atlw',lowBound=0)\n",
    "\n",
    "# Crear dos diccionarios Python costs y var_dict que contengan los costos y\n",
    "# las varibles de decisión del modelo\n",
    "\n",
    "costs = {\n",
    "    ('New York', 'East'):211,\n",
    "    ('New York', 'South'):232,\n",
    "    ('New York', 'Midwest'):240,\n",
    "    ('New York', 'West'):300,\n",
    "    ('Atlanta', 'East'):232,\n",
    "    ('Atlanta', 'South'):212,\n",
    "    ('Atlanta', 'Midwest'):230,\n",
    "    ('Atlanta', 'West'):280\n",
    "}\n",
    "\n",
    "var_dict = {\n",
    "    ('New York', 'East'):ne,\n",
    "    ('New York', 'South'):ns,\n",
    "    ('New York', 'Midwest'):nm,\n",
    "    ('New York', 'West'):nw,\n",
    "    ('Atlanta', 'East'):atle,\n",
    "    ('Atlanta', 'South'):atls,\n",
    "    ('Atlanta', 'Midwest'):atlm,\n",
    "    ('Atlanta', 'West'):atlw\n",
    "}\n",
    "\n",
    "# Construir las listas y el diccionario de demanda\n",
    "warehouse = ['New York', 'Atlanta']\n",
    "customers = ['East', 'South', 'Midwest', 'West']\n",
    "regional_damand = [1800, 1200, 1100, 1000]\n",
    "demand = dict(zip(customers, regional_damand))\n",
    "\n",
    "# Definir el objetivo\n",
    "modelo_log1 += lpSum([costs[(w, c)] * var_dict[(w, c)]\n",
    "                     for c in customers for w in warehouse])\n",
    "\n",
    "# Definir restricciones\n",
    "# Por cada cliente, sumar los envíos del almacen y configurarl\n",
    "# igual a la demanda del cliente\n",
    "for c in customers:\n",
    "    modelo_log1 += lpSum([var_dict[(w, c)] for w in warehouse]) == demand[c]\n",
    "\n",
    "# Resolver el modelo\n",
    "modelo_log1.solve()\n",
    "\n",
    "# Imprimir resultados de la solución\n",
    "print(f\"Estado: {LpStatus[modelo_log1.status]}\")\n",
    "\n",
    "# Imprimir el valor de la función objetivo\n",
    "print(f\"Costo total mínimo del transporte: {value(modelo_log1.objective)}\")\n",
    "\n",
    "# Imprimir la solución\n",
    "for v in modelo_log1.variables():\n",
    "    print(v.name, '-', v.varValue)"
   ]
  },
  {
   "cell_type": "code",
   "execution_count": null,
   "metadata": {},
   "outputs": [],
   "source": [
    "name = 'kjhdas'\n",
    "indexs=1\n",
    "\n",
    "\n",
    "\n",
    "LpVariable(name, indexs, lowBound=None, upBound=None, cat='Continuous')"
   ]
  }
 ],
 "metadata": {
  "kernelspec": {
   "display_name": "proyectocolt",
   "language": "python",
   "name": "python3"
  },
  "language_info": {
   "codemirror_mode": {
    "name": "ipython",
    "version": 3
   },
   "file_extension": ".py",
   "mimetype": "text/x-python",
   "name": "python",
   "nbconvert_exporter": "python",
   "pygments_lexer": "ipython3",
   "version": "3.12.4"
  }
 },
 "nbformat": 4,
 "nbformat_minor": 2
}
